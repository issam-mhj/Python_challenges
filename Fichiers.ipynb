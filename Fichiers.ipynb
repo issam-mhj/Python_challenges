{
 "cells": [
  {
   "cell_type": "markdown",
   "id": "784cad32",
   "metadata": {},
   "source": [
    "\n",
    "<center>\n",
    "<H1><span style=\"text-align: center; font-weight: bold; color: #746bb3ff;\">Gestion de Fichiers</span></H1>\n",
    "</center>"
   ]
  },
  {
   "cell_type": "markdown",
   "id": "00451f59",
   "metadata": {},
   "source": [
    "<H3><span style=\"font-weight: bold ; color: #19b7f1ff\">Les ressources: </span></H3> \n",
    "\n",
    "* [Documentation Officielle de Python](https://docs.python.org/fr/3/tutorial/inputoutput.html#reading-and-writing-files)\n",
    "* [Reading and Writing Files in Python](https://realpython.com/read-write-files-python/)"
   ]
  },
  {
   "cell_type": "markdown",
   "id": "3d2ea4b9",
   "metadata": {},
   "source": [
    "<H3><span style=\"font-weight: bold; color: #1a8bcdff;\">Challenge 1 : Extraction et Traitement de Fichiers</span></H3>\n",
    "\n",
    "1. <span style=\"font-weight: bold; color: #e56922ff;\">Objectif</span> : </br>\n",
    "Lire plusieurs fichiers texte et combiner leur contenu.\n",
    "\n",
    "2. <span style=\"font-weight: bold; color: #e56922ff;\">Travail à faire</span>:</br>\n",
    "* Utilisez os.listdir() pour lister tous les fichiers texte dans un répertoire.\n",
    "* Utilisez open() pour lire chaque fichier et extraire son contenu.\n",
    "* Combinez le contenu de tous les fichiers en un seul texte."
   ]
  },
  {
   "cell_type": "code",
   "execution_count": 12,
   "id": "21b6f2cb",
   "metadata": {},
   "outputs": [
    {
     "name": "stdout",
     "output_type": "stream",
     "text": [
      "['corepack', 'corepack.cmd', 'install_tools.bat', 'node.exe', 'nodevars.bat', 'npm', 'npm.cmd', 'npm.ps1', 'npx', 'npx.cmd', 'npx.ps1']\n"
     ]
    }
   ],
   "source": [
    "#  Écrivez du code Python ici\n",
    "import os\n",
    "path = r\"C:\\Program Files\\nodejs\"\n",
    "\n",
    "files = [f for f in os.listdir(path) if os.path.isfile(os.path.join(path,f)) ]\n",
    "\n",
    "print(files)"
   ]
  },
  {
   "cell_type": "markdown",
   "id": "5240bc4e",
   "metadata": {},
   "source": [
    "<H3><span style=\"font-weight: bold; color: #1a8bcdff;\">Challenge 2 : Recherche de Fichiers</span></H3>\n",
    "\n",
    "1. <span style=\"font-weight: bold; color: #e56922ff;\">Objectif</span> : </br>\n",
    "Vérifier l'existence de fichiers spécifiques et les traiter.\n",
    "\n",
    "2. <span style=\"font-weight: bold; color: #e56922ff;\">Travail à faire</span>:</br>\n",
    "* Utilisez os.path.exists() pour vérifier si des fichiers de configuration (config.yaml) existent dans un répertoire donné.\n",
    "* Si le fichier existe, ouvrez-le et affichez son contenu."
   ]
  },
  {
   "cell_type": "code",
   "execution_count": 21,
   "id": "fa5797e7",
   "metadata": {},
   "outputs": [
    {
     "name": "stdout",
     "output_type": "stream",
     "text": [
      "hello everyone\n"
     ]
    }
   ],
   "source": [
    "#  Écrivez du code Python ici\n",
    "mypath = r\"C:\\Users\\issam\\OneDrive\\Desktop\\portfolio\\config.yaml\"\n",
    "\n",
    "if os.path.exists(mypath) : \n",
    "    document = open(mypath)\n",
    "    print(document.read())\n",
    "else : \n",
    "    print(\"it doesn't exist\")\n",
    "\n"
   ]
  },
  {
   "cell_type": "markdown",
   "id": "c9850348",
   "metadata": {},
   "source": [
    "<H3><span style=\"font-weight: bold; color: #1a8bcdff;\">Challenge 4 : Création de Répertoires</span></H3>\n",
    "\n",
    "1. <span style=\"font-weight: bold; color: #e56922ff;\">Objectif</span> : </br>\n",
    "Créer une structure de répertoires à partir d'une liste de noms.\n",
    "\n",
    "2. <span style=\"font-weight: bold; color: #e56922ff;\">Travail à faire</span>:</br>\n",
    "* Utilisez os.mkdir() pour créer un répertoire principal.\n",
    "* Créez plusieurs sous-répertoires à l'intérieur du répertoire principal en utilisant une liste de noms."
   ]
  },
  {
   "cell_type": "code",
   "execution_count": 27,
   "id": "07f28968",
   "metadata": {},
   "outputs": [
    {
     "name": "stdout",
     "output_type": "stream",
     "text": [
      "already exist\n"
     ]
    }
   ],
   "source": [
    "#  Écrivez du code Python ici\n",
    "path = r\"C:\\Users\\issam\\OneDrive\\Desktop\\portfolio\\main\"\n",
    "\n",
    "try:\n",
    "    os.mkdir(path)\n",
    "except:\n",
    "    print(\"already exist\")\n",
    "\n",
    "subFolders = [\"ai\",\"java\",\"js\"]\n",
    "\n",
    "for i in subFolders :\n",
    "    newPath = \"C:\\\\Users\\\\issam\\\\OneDrive\\\\Desktop\\\\portfolio\\\\main\\\\\" + i\n",
    "    try :\n",
    "        os.mkdir(newPath)\n",
    "    except : \n",
    "        print(\"already exist\")\n",
    "\n",
    "\n"
   ]
  },
  {
   "cell_type": "markdown",
   "id": "70d5c0f1",
   "metadata": {},
   "source": [
    "<H3><span style=\"font-weight: bold; color: #1a8bcdff;\">Challenge 5 : Copie Sélective de Fichiers</span></H3>\n",
    "\n",
    "1. <span style=\"font-weight: bold; color: #e56922ff;\">Objectif</span> : </br>\n",
    "Copier des fichiers spécifiques d'un répertoire à un autre.\n",
    "\n",
    "2. <span style=\"font-weight: bold; color: #e56922ff;\">Travail à faire</span>:</br>\n",
    "* Utilisez os.listdir() pour lister tous les fichiers dans un répertoire source.\n",
    "* Utilisez shutil.copy() pour copier uniquement les fichiers avec une extension spécifique (par exemple, .csv) vers un répertoire de destination."
   ]
  },
  {
   "cell_type": "code",
   "execution_count": null,
   "id": "d723fec4",
   "metadata": {},
   "outputs": [
    {
     "name": "stdout",
     "output_type": "stream",
     "text": [
      "['a.csv', 'b.txt', 'config.yaml', 'd.txt']\n"
     ]
    }
   ],
   "source": [
    "#  Écrivez du code Python ici\n",
    "import os\n",
    "import shutil\n",
    "\n",
    "path = r\"C:\\Users\\issam\\OneDrive\\Desktop\\portfolio\"\n",
    "d = r\"C:\\Users\\issam\\OneDrive\\Desktop\\portfolio\\d.text\"\n",
    "files = [f for f in os.listdir(path) if os.path.isfile(os.path.join(path,f))]\n",
    "for i in files :\n",
    "    if os.path.splitext(i)[1] == \".csv\" :\n",
    "        shutil.copy((path+\"\\\\\"+i),d)\n",
    "print(files)\n"
   ]
  },
  {
   "cell_type": "markdown",
   "id": "860b9d43",
   "metadata": {},
   "source": [
    "<H3><span style=\"font-weight: bold; color: #1a8bcdff;\">Challenge 6 : Écriture de Fichiers</span></H3>\n",
    "\n",
    "1. <span style=\"font-weight: bold; color: #e56922ff;\">Objectif</span> : </br>\n",
    "Écrire du contenu dans un fichier texte.\n",
    "\n",
    "2. <span style=\"font-weight: bold; color: #e56922ff;\">Travail à faire</span>:</br>\n",
    "* Utilisez open() en mode écriture pour créer un nouveau fichier texte.\n",
    "* Écrivez des lignes de texte dans le fichier en utilisant une boucle.\n",
    "* Fermez le fichier et vérifiez que les données ont été correctement enregistrées."
   ]
  },
  {
   "cell_type": "code",
   "execution_count": null,
   "id": "bacbe689",
   "metadata": {},
   "outputs": [],
   "source": [
    "#  Écrivez du code Python ici\n",
    "pathDst = r\"C:\\Users\\issam\\OneDrive\\Desktop\\portfolio\"\n",
    "\n"
   ]
  },
  {
   "cell_type": "markdown",
   "id": "27cd8680",
   "metadata": {},
   "source": []
  }
 ],
 "metadata": {
  "kernelspec": {
   "display_name": "Python 3",
   "language": "python",
   "name": "python3"
  },
  "language_info": {
   "codemirror_mode": {
    "name": "ipython",
    "version": 3
   },
   "file_extension": ".py",
   "mimetype": "text/x-python",
   "name": "python",
   "nbconvert_exporter": "python",
   "pygments_lexer": "ipython3",
   "version": "3.13.7"
  }
 },
 "nbformat": 4,
 "nbformat_minor": 5
}
