{
 "cells": [
  {
   "cell_type": "markdown",
   "id": "4b14e968",
   "metadata": {},
   "source": [
    "\n",
    "<center>\n",
    "<H1><span style=\"text-align: center; font-weight: bold; color: #746bb3ff;\">Challenges avancés sur les listes</span></H1>\n",
    "</center>"
   ]
  },
  {
   "cell_type": "markdown",
   "id": "6e737eb3",
   "metadata": {},
   "source": [
    "<H3><span style=\"font-weight: bold; color: #1a8bcdff;\">Challenge 1 :  Filtrage avancé avec fonctions</span></H3>\n",
    "\n",
    "1. <span style=\"font-weight: bold; color: #e56922ff;\">Objectif</span> : </br>\n",
    "Créer une fonction qui filtre une liste selon des critères dynamiques passés en paramètre.\n",
    "\n",
    "2. <span style=\"font-weight: bold; color: #e56922ff;\">Travail à faire</span>:</br>\n",
    "\n",
    "* Écrivez une fonction filtrer_liste qui prend en entrée une liste de nombres et une fonction de critère (fonction lambda ou définie). La fonction doit retourner une nouvelle liste contenant uniquement les éléments qui satisfont le critère. \n",
    "* Testez la fonction avec au moins deux critères différents (par exemple, \"plus grand que 10\" et \"multiple de 3\").\n",
    "* Exemple d'entrée :<code>[1, 12, 9, 15, 20, 3]</code>  avec critère <code>lambda x: x > 10</code> → Résultat : <code>[12, 15, 20]</code>.\n",
    "3. Fonctions à utiliser :\n",
    "\n",
    "* <code>filter()</code> : Pour appliquer le critère de filtrage sur la liste.\n",
    "* <code>list()</code> : Pour convertir le résultat de filter en liste."
   ]
  },
  {
   "cell_type": "code",
   "execution_count": 11,
   "id": "515f5469",
   "metadata": {},
   "outputs": [
    {
     "name": "stdout",
     "output_type": "stream",
     "text": [
      "[3, 9]\n"
     ]
    }
   ],
   "source": [
    "#  Écrivez du code Python ici\n",
    "numbers = [3,9,8,5,2,4,11]\n",
    "landa = lambda a : a % 3 == 0 \n",
    "\n",
    "def filter_liste(numbers,landa):\n",
    "    return [i for i in numbers if landa(i)]\n",
    "\n",
    "print(list(filter(landa,numbers)))\n",
    "# filter_liste(numbers,landa)\n"
   ]
  },
  {
   "cell_type": "markdown",
   "id": "cb83ba8f",
   "metadata": {},
   "source": [
    "<H3><span style=\"font-weight: bold; color: #1a8bcdff;\">Challenge 2 : Transformation Avancée de Données</span></H3>\n",
    "\n",
    "1. <span style=\"font-weight: bold; color: #e56922ff;\">Objectif</span> : </br>\n",
    " Manipuler et transformer une liste de nombres en combinant plusieurs opérations fonctionnelles.\n",
    "\n",
    "\n",
    "2. <span style=\"font-weight: bold; color: #e56922ff;\">Travail à faire</span>:</br>\n",
    "\n",
    "* Créez une liste de nombres entiers (positifs et négatifs).\n",
    "\n",
    "* Utilisez filter() pour garder uniquement les nombres positifs.\n",
    "\n",
    "* Utilisez map() pour calculer le cube de chaque nombre filtré.\n",
    "\n",
    "* Utilisez sorted() pour trier la liste des cubes en ordre décroissant.\n",
    "\n",
    "* Affichez la liste finale des valeurs transformées."
   ]
  },
  {
   "cell_type": "code",
   "execution_count": 19,
   "id": "68709f89",
   "metadata": {},
   "outputs": [
    {
     "name": "stdout",
     "output_type": "stream",
     "text": [
      "[1000, 512, 64, 27]\n"
     ]
    }
   ],
   "source": [
    "#  Écrivez du code Python ici\n",
    "numbers = [3,-9,4,8,-11,-30,10]\n",
    "\n",
    "newNum = list(filter(lambda x : x>0 , numbers))\n",
    "\n",
    "def cube(i):\n",
    "    return i**3\n",
    "\n",
    "cubeNums = list(map(cube,newNum))\n",
    "\n",
    "print(sorted(cubeNums,reverse=True))"
   ]
  },
  {
   "cell_type": "markdown",
   "id": "9348938f",
   "metadata": {},
   "source": [
    "<H3><span style=\"font-weight: bold; color: #1a8bcdff;\">Challenge 3 : Tri personnalisé avec clé dynamique\n",
    "</span></H3>\n",
    "\n",
    "1. <span style=\"font-weight: bold; color: #e56922ff;\">Objectif</span> : </br>\n",
    "Trier une liste d'objets complexes en utilisant une fonction de clé personnalisée.\n",
    "\n",
    "2. <span style=\"font-weight: bold; color: #e56922ff;\">Travail à faire</span>:</br>\n",
    "\n",
    "* Créez une liste de dictionnaires représentant des étudiants avec les clés nom (str) et note (int). \n",
    "* Écrivez une fonction trier_etudiants qui prend la liste et une fonction de clé (par exemple, lambda x: x['note'] pour trier par note). La fonction doit retourner la liste triée, avec une option pour tri croissant ou décroissant (via un paramètre reverse).  \n",
    "* Testez avec une liste d'au moins 5 étudiants et deux critères de tri.\n",
    "* Exemple d'entrée : <code>[{'nom': 'Alice', 'note': 85}, {'nom': 'Bob', 'note': 92}]</code> trié par note décroissante → Résultat : <code>[{'nom': 'Bob', 'note': 92}, {'nom': 'Alice', 'note': 85}]</code>.\n",
    "3. Fonctions à utiliser :\n",
    "* <code>sorted()</code> : Pour trier la liste avec une clé personnalisée.\n",
    "* <code>lambda</code> : Pour définir les fonctions de clé dynamiques."
   ]
  },
  {
   "cell_type": "code",
   "execution_count": 37,
   "id": "341dbff4",
   "metadata": {},
   "outputs": [
    {
     "name": "stdout",
     "output_type": "stream",
     "text": [
      "[{'nom': 'issam', 'note': 80}, {'nom': 'zakaria', 'note': 84}, {'nom': 'reda', 'note': 89}, {'nom': 'Bob', 'note': 92}, {'nom': 'Alice', 'note': 95}, {'nom': 'abde', 'note': 99}]\n"
     ]
    }
   ],
   "source": [
    "#  Écrivez du code Python ici\n",
    "students = [{'nom': 'Alice', 'note': 95}, {'nom': 'Bob', 'note': 92},{'nom': 'issam', 'note': 80}, {'nom': 'reda', 'note': 89},{'nom': 'zakaria', 'note': 84}, {'nom': 'abde', 'note': 99}]\n",
    "\n",
    "triCle = lambda x : x['note'] \n",
    "\n",
    "def myTri(laliste,regle, isReversed=False) : \n",
    "    if isReversed :\n",
    "        return sorted(laliste,key=regle,reverse=True)\n",
    "    else :\n",
    "        return sorted(laliste,key=regle)\n",
    "\n",
    "    \n",
    "\n",
    "print(myTri(students,triCle))"
   ]
  },
  {
   "cell_type": "markdown",
   "id": "12a40e48",
   "metadata": {},
   "source": [
    "<H3><span style=\"font-weight: bold; color: #1a8bcdff;\">Challenge 4 : Fusion intelligente de listes</span></H3>\n",
    "\n",
    "1. <span style=\"font-weight: bold; color: #e56922ff;\">Objectif</span> : </br>\n",
    "Fusionner deux listes en éliminant les doublons et en respectant un ordre spécifique.\n",
    "2. <span style=\"font-weight: bold; color: #e56922ff;\">Travail à faire</span>:</br>\n",
    "\n",
    "* Écrivez une fonction fusionner_listes qui prend deux listes de nombres et une fonction de tri (par exemple, lambda x: x pour tri croissant). \n",
    "* La fonction doit fusionner les deux listes, supprimer les doublons, et retourner une liste triée selon la fonction de tri fournie. \n",
    "*  Testez avec deux listes contenant des doublons et deux fonctions de tri différentes.\n",
    "* Exemple d'entrée : <code>liste1 = [1, 3, 5, 3]</code>, <code>liste2 = [2, 3, 4, 5]</code>, tri croissant → Résultat : <code>[1, 2, 3, 4, 5]</code>.\n",
    "3. Fonctions à utiliser :\n",
    "\n",
    "* extend() : Pour ajouter les éléments d'une liste à une autre.\n",
    "* set() : Pour supprimer les doublons.\n",
    "* sorted() : Pour trier la liste fusionnée."
   ]
  },
  {
   "cell_type": "code",
   "execution_count": 42,
   "id": "a8fb6e19",
   "metadata": {},
   "outputs": [
    {
     "name": "stdout",
     "output_type": "stream",
     "text": [
      "[1, 2, 3, 4, 5]\n"
     ]
    }
   ],
   "source": [
    "#  Écrivez du code Python ici\n",
    "liste1 = [1, 3, 5, 3]\n",
    "liste2 = [2, 3, 4, 5]\n",
    "\n",
    "tri = lambda x: x\n",
    "\n",
    "def fusionner(liste1,liste2,tri) :\n",
    "    newlst = []\n",
    "    exist = 0\n",
    "    for i in liste1 :\n",
    "        exist = 0\n",
    "        for y in newlst :\n",
    "            if y == i :\n",
    "                exist = 1\n",
    "        \n",
    "        if exist == 0 :\n",
    "            newlst.append(i)\n",
    "    for i in liste2 :\n",
    "        exist = 0\n",
    "        for y in newlst :\n",
    "            if y == i :\n",
    "                exist = 1\n",
    "        \n",
    "        if exist == 0 :\n",
    "            newlst.append(i)\n",
    "\n",
    "    newlst = sorted(newlst,key=tri)\n",
    "    return newlst\n",
    "\n",
    "\n",
    "\n",
    "print(fusionner(liste1,liste2,tri))\n",
    "\n",
    "\n",
    "\n"
   ]
  },
  {
   "cell_type": "markdown",
   "id": "dd1e329d",
   "metadata": {},
   "source": [
    "<H3><span style=\"font-weight: bold; color: #1a8bcdff;\">Challenge 5 : Partitionnement de liste</span></H3>\n",
    "\n",
    "1. <span style=\"font-weight: bold; color: #e56922ff;\">Objectif</span> : </br>\n",
    "Diviser une liste en sous-listes selon un critère dynamique.\n",
    "2. <span style=\"font-weight: bold; color: #e56922ff;\">Travail à faire</span>:</br>\n",
    "\n",
    "* Écrivez une fonction partitionner_liste qui prend une liste et une fonction de critère (par exemple, lambda x: x % 2 == 0 pour séparer pairs et impairs). \n",
    "* La fonction doit retourner un tuple contenant deux listes : une pour les éléments qui satisfont le critère et une pour ceux qui ne le satisfont pas. \n",
    "* Testez avec deux critères différents (par exemple, \"pair/impair\" et \"positif/négatif\").\n",
    "* Exemple d'entrée : <code>[1, 2, 3, 4, 5, 6]</code> avec critère <code>ambda x: x % 2 == 0</code>l → Résultat : <code>([2, 4, 6], [1, 3, 5])</code>.\n",
    "3. Fonctions à utiliser :\n",
    "\n",
    "* <code>filter()</code> : Pour séparer les éléments selon le critère.\n",
    "* <code>list()</code> : Pour convertir les résultats de filter en listes.\n",
    "* <code>append()</code> : Pour construire les deux listes si vous utilisez une boucle."
   ]
  },
  {
   "cell_type": "code",
   "execution_count": 45,
   "id": "843cd03c",
   "metadata": {},
   "outputs": [
    {
     "name": "stdout",
     "output_type": "stream",
     "text": [
      "([2, 4, 6], [1, 3, 5])\n"
     ]
    }
   ],
   "source": [
    "#  Écrivez du code Python ici\n",
    "lst = [1, 2, 3, 4, 5, 6]\n",
    "tri = lambda x: x%2 == 0\n",
    "\n",
    "def partitionner_liste(lst,tri) :\n",
    "    lst1 = list(filter(tri,lst))\n",
    "    lst2 = [i for i in lst if i not in lst1 ]\n",
    "    return lst1,lst2\n",
    "\n",
    "\n",
    "print(partitionner_liste(lst,tri))\n"
   ]
  },
  {
   "cell_type": "markdown",
   "id": "24d606ac",
   "metadata": {},
   "source": [
    "<H3><span style=\"font-weight: bold; color: #1a8bcdff;\">Challenge 6 : Réduction avec accumulation personnalisée</span></H3>\n",
    "\n",
    "1. <span style=\"font-weight: bold; color: #e56922ff;\">Objectif</span> : </br>\n",
    "Appliquer une opération personnalisée pour réduire une liste à une seule valeur.\n",
    "\n",
    "2. <span style=\"font-weight: bold; color: #e56922ff;\">Travail à faire</span>:</br>\n",
    "\n",
    "* Écrivez une fonction reduire_liste qui prend une liste de nombres, une fonction d'opération (par exemple, lambda x, y: x + y pour une somme), et une valeur initiale. \n",
    "* La fonction doit appliquer l'opération sur les éléments pour produire une seule valeur, sans utiliser functools.reduce. \n",
    "* Testez avec deux opérations différentes (par exemple, somme et produit).\n",
    "* Exemple d'entrée : <code>[1, 2, 3, 4]</code> avec <code>lambda x, y: x + y</code> et valeur initiale 0 → Résultat : 10.\n",
    "3. Fonctions à utiliser :\n",
    "\n",
    "* <code>lambda</code> : Pour définir l'opération personnalisée.\n",
    "* Boucle avec accumulation (pas de fonction intégrée comme reduce, car interdit dans l'énoncé)."
   ]
  },
  {
   "cell_type": "code",
   "execution_count": 46,
   "id": "9c0d3355",
   "metadata": {},
   "outputs": [
    {
     "name": "stdout",
     "output_type": "stream",
     "text": [
      "Somme : 10\n",
      "Produit : 24\n"
     ]
    }
   ],
   "source": [
    "#  Écrivez du code Python ici\n",
    "def reduire_liste(lst, op, valeurIni):\n",
    "    resultat = valeurIni\n",
    "    for element in lst:\n",
    "        resultat = op(resultat, element)\n",
    "    return resultat\n",
    "\n",
    "liste = [1, 2, 3, 4]\n",
    "somme = reduire_liste(liste, lambda x, y: x + y, 0)\n",
    "print(\"Somme :\", somme)\n",
    "\n",
    "produit = reduire_liste(liste, lambda x, y: x * y, 1)\n",
    "print(\"Produit :\", produit)"
   ]
  },
  {
   "cell_type": "markdown",
   "id": "7d7b7f8a",
   "metadata": {},
   "source": [
    "<H3><span style=\"font-weight: bold; color: #1a8bcdff;\">Challenge 7 : Transformation imbriquée</span></H3>\n",
    "\n",
    "1. <span style=\"font-weight: bold; color: #e56922ff;\">Objectif</span> : </br>\n",
    "Transformer une liste imbriquée avec une fonction récursive.\n",
    "\n",
    "2. <span style=\"font-weight: bold; color: #e56922ff;\">Travail à faire</span>:</br>\n",
    "\n",
    "* Écrivez une fonction transformer_imbriquee qui prend une liste potentiellement imbriquée (contenant des nombres ou des listes) et une fonction de transformation (par exemple, lambda x: x * 2 pour doubler chaque nombre). \n",
    "* La fonction doit appliquer la transformation à chaque nombre, en préservant la structure imbriquée. \n",
    "* Testez avec une liste contenant au moins deux niveaux d'imbrication et deux fonctions de transformation.\n",
    "* Exemple d'entrée : <code>[1, [2, 3, [4, 5]], 6]</code> avec <code>lambda x: x * 2 </code>→ Résultat : <code>[2, [4, 6, [8, 10]], 12]</code>.\n",
    "3. Fonctions à utiliser :\n",
    "\n",
    "<code>map()</code> : Pour appliquer la transformation aux éléments non imbriqués.\n",
    "<code>isinstance()</code> : Pour vérifier si un élément est une liste (pour la récursivité).\n",
    "<code>list()</code> : Pour convertir les résultats de map en listes."
   ]
  },
  {
   "cell_type": "code",
   "execution_count": null,
   "id": "0d08089b",
   "metadata": {},
   "outputs": [],
   "source": [
    "\n"
   ]
  }
 ],
 "metadata": {
  "kernelspec": {
   "display_name": "Python 3",
   "language": "python",
   "name": "python3"
  },
  "language_info": {
   "codemirror_mode": {
    "name": "ipython",
    "version": 3
   },
   "file_extension": ".py",
   "mimetype": "text/x-python",
   "name": "python",
   "nbconvert_exporter": "python",
   "pygments_lexer": "ipython3",
   "version": "3.13.7"
  }
 },
 "nbformat": 4,
 "nbformat_minor": 5
}
