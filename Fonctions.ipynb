{
 "cells": [
  {
   "cell_type": "markdown",
   "id": "21dfa672",
   "metadata": {},
   "source": [
    "<center>\n",
    "<H1><span style=\"text-align: center; font-weight: bold; color: #746bb3ff;\">Les Fonctions</span></H1>\n",
    "</center>"
   ]
  },
  {
   "cell_type": "markdown",
   "id": "4280dbf3",
   "metadata": {},
   "source": [
    "<H3><span style=\"font-weight: bold ; color: #19b7f1ff\">Les ressources: </span></H3> \n",
    "\n",
    "\n",
    "* [Python Functions](https://realpython.com/defining-your-own-python-function/#abstraction)\n",
    "* [Documentation Officielle de Python](https://docs.python.org/fr/3/tutorial/controlflow.html#defining-functions)"
   ]
  },
  {
   "cell_type": "markdown",
   "id": "e83d584f",
   "metadata": {},
   "source": [
    "<H3><span style=\"font-weight: bold; color: #1a8bcdff;\">Challenge 1 : Présentation personnalisé</span></H3>\n",
    "\n",
    "1. <span style=\"font-weight: bold; color: #e56922ff;\">Objectif</span> : </br>\n",
    "Réutiliser un programme existant (Challenge 2) en le structurant dans une fonction nommée horaire_sup.\n",
    "\n",
    "2. <span style=\"font-weight: bold; color: #e56922ff;\">Travail à faire</span>:</br>\n",
    "Réécris le programme du Challenge 2 dans une fonction appelée horaire_sup."
   ]
  },
  {
   "cell_type": "code",
   "execution_count": 4,
   "id": "b3439d44",
   "metadata": {},
   "outputs": [
    {
     "name": "stdout",
     "output_type": "stream",
     "text": [
      "issam: your salary is 475.0\n"
     ]
    }
   ],
   "source": [
    "#  Écrivez du code Python ici\n",
    "def horaire_sup(name,salary,hours) :\n",
    "    bonus = 0\n",
    "    if hours > 40 :\n",
    "        bonus = (hours - 40) * (salary*1.5)\n",
    "        salaryTot = (40 * salary) + bonus\n",
    "    else :\n",
    "        salaryTot = hours * salary\n",
    "\n",
    "    print(f'{name}: your salary is {salaryTot}')\n",
    "\n",
    "name = input(\"what is your name ? : \")\n",
    "salary = float(input(\"what is your salary by hour ? : \"))\n",
    "hours = float(input(\"how many hours you have worked ? : \"))\n",
    "horaire_sup(name,salary,hours)"
   ]
  },
  {
   "cell_type": "markdown",
   "id": "77631c7d",
   "metadata": {},
   "source": [
    "<H3><span style=\"font-weight: bold; color: #1a8bcdff;\">Challenge 2 : Fonction calculation() – somme et différence</span></H3>\n",
    "\n",
    "1. <span style=\"font-weight: bold; color: #e56922ff;\">Objectif</span> : </br>\n",
    "Apprendre à écrire une fonction avec plusieurs paramètres et plusieurs valeurs de retour.\n",
    "\n",
    "2. <span style=\"font-weight: bold; color: #e56922ff;\">Travail à faire</span>:</br>\n",
    "Écris une fonction calculation() qui prend deux arguments et calcule leur somme ainsi que leur différence. La fonction doit ensuite retourner les deux résultats dans une seule instruction return."
   ]
  },
  {
   "cell_type": "code",
   "execution_count": 14,
   "id": "323a8b4a",
   "metadata": {},
   "outputs": [
    {
     "name": "stdout",
     "output_type": "stream",
     "text": [
      "the sum : 6 + 0 = 6 \n",
      "the div : 6 / 0 = second number is 0\n"
     ]
    }
   ],
   "source": [
    "#  Écrivez du code Python ici\n",
    "\n",
    "def calculation(a,b) :\n",
    "    if b!= 0:\n",
    "        return a+b,a/b\n",
    "    else : \n",
    "        return a+b, \"second number is 0\"        \n",
    "\n",
    "n1 = int(input(\"enter n1: \"))\n",
    "n2 = int(input(\"enter n2: \"))\n",
    "\n",
    "res = calculation(n1,n2)\n",
    "print(f'the sum : {n1} + {n2} = {res[0]} \\nthe div : {n1} / {n2} = {res[1]}')\n"
   ]
  },
  {
   "cell_type": "markdown",
   "id": "c2081304",
   "metadata": {},
   "source": [
    "<H3><span style=\"font-weight: bold; color: #1a8bcdff;\">Challenge 3 : Mini-projets algorithmiques regroupés</span></H3>\n",
    "\n",
    "1. <span style=\"font-weight: bold; color: #e56922ff;\">Objectif</span> : </br>\n",
    "Développer plusieurs petites fonctions indépendantes, chacune ciblant une compétence précise\n",
    "\n",
    "2. <span style=\"font-weight: bold; color: #e56922ff;\">Travail à faire</span>:</br>\n",
    "- Demander à l’utilisateur de saisir un nombre entier n et afficher la factorielle de ce nombre (n!).\n",
    "- Demander à l’utilisateur un nombre entier m et afficher sa table de multiplication de 1 à 10.\n",
    "- Demander à l’utilisateur un nombre entier L et indiquer s’il s’agit d’un carré parfait.\n",
    "- Demander une chaîne de caractères à l’utilisateur, puis afficher chaque caractère un par un.\n",
    "- Demander une phrase à l’utilisateur et afficher le mot le plus long de cette phrase.\n",
    "- Demander une chaîne de caractères Ch et afficher le nombre d’occurrences de chaque caractère. Exemple : Pour Ch = “artificial intelligence developer” \n",
    "- Le programme doit afficher : Le caractère \"i\" figure 5 fois dans la chaîne Ch."
   ]
  },
  {
   "cell_type": "code",
   "execution_count": null,
   "id": "6488ff8f",
   "metadata": {},
   "outputs": [],
   "source": [
    "def noccurence"
   ]
  },
  {
   "cell_type": "code",
   "execution_count": 36,
   "id": "a06adf5c",
   "metadata": {},
   "outputs": [
    {
     "name": "stdout",
     "output_type": "stream",
     "text": [
      "the character h exist : 1 mra\n",
      "the character e exist : 5 mra\n",
      "the character y exist : 1 mra\n",
      "the character s exist : 3 mra\n",
      "the character i exist : 3 mra\n",
      "the character r exist : 1 mra\n",
      "the character a exist : 2 mra\n",
      "the character m exist : 2 mra\n"
     ]
    }
   ],
   "source": [
    "#  Écrivez du code Python ici\n",
    "def fact() :\n",
    "    n = int(input(\"enter your number : \"))\n",
    "    sum = 1\n",
    "    for i in range(1,n+1):\n",
    "        sum *= i \n",
    "    return sum\n",
    "\n",
    "def mult() : \n",
    "    n = int(input(\"enter your number : \"))\n",
    "    for i in range(1,11):\n",
    "        print(f'{n} * {i} = {n*i}')\n",
    "\n",
    "\n",
    "def carre() : \n",
    "    n = int(input(\"enter your number : \"))\n",
    "    isParfait = 0\n",
    "    for i in range(1,n+1) :\n",
    "        if i*i == n :\n",
    "            isParfait = 1 \n",
    "    \n",
    "    if isParfait == 1 :\n",
    "        print(\"perfect square\")\n",
    "    else :\n",
    "        print(\"not perfect square\")\n",
    "\n",
    "def affichChars() :\n",
    "    name = input(\"enter a string : \")\n",
    "    for i in name :\n",
    "        print(i)\n",
    "\n",
    "def biggestWord() :\n",
    "    name = input(\"enter a sentence : \")\n",
    "    name = name.split()\n",
    "    ind = 0\n",
    "    for i in range(0,len(name)) :\n",
    "        if len(name[i])>len(name[ind]) :\n",
    "            ind = i \n",
    "    return name[ind]\n",
    "    \n",
    "def numChars() : \n",
    "    name = input(\"enter a sentence : \")\n",
    "    chars = \"\"\n",
    "    count = 0 \n",
    "    for i in range(0,len(name)):\n",
    "        count = 0\n",
    "        for y in range(0,len(chars)) : \n",
    "            if name[i] == chars[y] : \n",
    "                count = 1\n",
    "        \n",
    "        if count == 0 and name[i] != \" \" :\n",
    "            chars += name[i]\n",
    "    for i in range(0,len(chars)):\n",
    "        count = 0\n",
    "        for y in range(0,len(name)) :\n",
    "            if chars[i] == name[y] : \n",
    "                count += 1\n",
    "        print(f'the character {chars[i]} exist : {count} mra')\n",
    "\n",
    "\n",
    "\n",
    "\n",
    "# carre()\n",
    "# fact()\n",
    "# mult()\n",
    "# affichChars()\n",
    "# biggestWord()\n",
    "numChars()\n"
   ]
  }
 ],
 "metadata": {
  "kernelspec": {
   "display_name": "Python 3",
   "language": "python",
   "name": "python3"
  },
  "language_info": {
   "codemirror_mode": {
    "name": "ipython",
    "version": 3
   },
   "file_extension": ".py",
   "mimetype": "text/x-python",
   "name": "python",
   "nbconvert_exporter": "python",
   "pygments_lexer": "ipython3",
   "version": "3.13.7"
  }
 },
 "nbformat": 4,
 "nbformat_minor": 5
}
