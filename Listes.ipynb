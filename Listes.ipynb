{
 "cells": [
  {
   "cell_type": "markdown",
   "id": "b44d4791",
   "metadata": {},
   "source": [
    "<center>\n",
    "<H1><span style=\"text-align: center; font-weight: bold; color: #746bb3ff;\">Les Listes</span></H1>\n",
    "</center>"
   ]
  },
  {
   "cell_type": "markdown",
   "id": "b9c93591",
   "metadata": {},
   "source": [
    "<H3><span style=\"font-weight: bold ; color: #19b7f1ff\">Les ressources: </span></H3> \n",
    "\n",
    "* [Python Lists and List Manipulation](https://realpython.com/python-lists-tuples/)\n",
    "* [Documentation Officielle de Python - Structures de données - Listes](https://docs.python.org/fr/3/tutorial/datastructures.html#more-on-lists)\n"
   ]
  },
  {
   "cell_type": "markdown",
   "id": "873352ef",
   "metadata": {},
   "source": [
    "<H3><span style=\"font-weight: bold; color: #1a8bcdff;\">Challenge 1 : La liste des notes </span></H3>\n",
    "\n",
    "<center><code>notes = [12, 4, 14, 11, 18, 13, 7, 10, 5, 9, 15, 8, 14, 16]</code></center>\n",
    "\n",
    "<span style=\"font-weight: bold; color: #e56922ff;\">Travail à faire</span>:</br>\n",
    "Écris un programme en Python qui extrait toutes les notes supérieures à la moyenne et les stocke dans une nouvelle liste."
   ]
  },
  {
   "cell_type": "code",
   "execution_count": 4,
   "id": "08a09dc2",
   "metadata": {},
   "outputs": [
    {
     "name": "stdout",
     "output_type": "stream",
     "text": [
      "[12, 14, 18, 13, 15, 14, 16]\n"
     ]
    }
   ],
   "source": [
    "#  Écrivez du code Python ici\n",
    "\n",
    "notes = [12, 4, 14, 11, 18, 13, 7, 10, 5, 9, 15, 8, 14, 16]\n",
    "supNotes = []\n",
    "sum = 0\n",
    "\n",
    "for i in notes : \n",
    "    sum += i\n",
    "moy = sum / len(notes)\n",
    "\n",
    "for i in notes :\n",
    "    if i >= moy :\n",
    "        supNotes.append(i)\n",
    "    \n",
    "print(supNotes)\n"
   ]
  },
  {
   "cell_type": "markdown",
   "id": "87452d02",
   "metadata": {},
   "source": [
    "\n",
    "<H3><span style=\"font-weight: bold; color: #1a8bcdff;\">Challenge 2 : Les mots communs</span></H3>\n",
    "\n",
    "<center><code>\n",
    "Ch1 = \"Le langage Python est très populaire\" <br>\n",
    "Ch2 = \"Python est un langage puissant\"\n",
    "        </code></center>\n",
    "\n",
    "<span style=\"font-weight: bold; color: #e56922ff;\">Travail à faire</span>:</br>\n",
    "Écris un programme en Python qui permet de regrouper dans une liste les mots communs entre deux chaînes de caractères Ch1 et Ch2."
   ]
  },
  {
   "cell_type": "code",
   "execution_count": 33,
   "id": "a640e80e",
   "metadata": {},
   "outputs": [
    {
     "name": "stdout",
     "output_type": "stream",
     "text": [
      "['Le', 'langage', 'Python', 'est', 'très', 'populaire']\n",
      "['langage', 'Python', 'est']\n"
     ]
    }
   ],
   "source": [
    "#  Écrivez du code Python ici\n",
    "def splitStr(str) : \n",
    "    mylist=[]\n",
    "    word = \"\"\n",
    "    for i in str+\" \" :\n",
    "        if i != \" \" :\n",
    "            word += i\n",
    "        elif len(word) != 0 :\n",
    "            mylist.append(word)\n",
    "            word = \"\"\n",
    "\n",
    "    return mylist\n",
    "\n",
    "\n",
    "\n",
    "Ch1 = \"Le langage          Python est très populaire\"\n",
    "Ch2 = \"Python est   n    un langage puissant\"\n",
    "ch1 = splitStr(Ch1)\n",
    "ch2 = splitStr(Ch2)\n",
    "print(ch1)\n",
    "samewords= []\n",
    "\n",
    "for i in ch1 :\n",
    "    for y in ch2 :\n",
    "        if i == y:\n",
    "            samewords.append(i)\n",
    "\n",
    "\n",
    "print(samewords) \n",
    "\n",
    "\n",
    "\n",
    "\n"
   ]
  },
  {
   "cell_type": "markdown",
   "id": "5d74627c",
   "metadata": {},
   "source": [
    "\n",
    "<H3><span style=\"font-weight: bold; color: #1a8bcdff;\">Challenge 3 : Manipulation et tri de listes mixtes</span></H3>\n",
    "\n",
    "<center><code>\n",
    "stock = [\"Stylo\", 25, \"Classeur\", 100, \"Crayon\", 12, \"Surligneur\", 40, \"Feutre\", 5]\n",
    "        </code></center>\n",
    "\n",
    "<span style=\"font-weight: bold; color: #e56922ff;\">Travail à faire</span>:</br>\n",
    " Écris un programme Python qui effectue les opérations suivantes à partir de la liste stock :\n",
    "\n",
    " 1. Afficher la liste initiale.\n",
    "2. Créer deux nouvelles listes :\n",
    "\n",
    "* une contenant uniquement les chaînes de caractères,\n",
    "\n",
    "* l’autre contenant uniquement les valeurs numériques.\n",
    "\n",
    "3. Trier :\n",
    "\n",
    "* la liste des chaînes en ordre croissant (alphabétique),\n",
    "\n",
    "* la liste des nombres en ordre décroissant.\n",
    "\n",
    "4. Afficher les deux listes triées."
   ]
  },
  {
   "cell_type": "code",
   "execution_count": null,
   "id": "19af103d",
   "metadata": {},
   "outputs": [
    {
     "name": "stdout",
     "output_type": "stream",
     "text": [
      "['Classeur', 'Crayon', 'Feutre', 'Stylo', 'Surligneur']\n"
     ]
    }
   ],
   "source": [
    "stock = [\"Stylo\", 25, \"Classeur\", 100, \"Crayon\", 12, \"Surligneur\", 40, \"Feutre\", 5]\n",
    "chaine= [x for x in stock if  isinstance(x,str)] \n",
    "num = [x for x in stock if isinstance(x,int)]\n",
    "# print(chaine)\n",
    "# print(num)\n",
    "\n",
    "for i in range(len(chaine)-1) : \n",
    "    for j in range(i+1,len(chaine)) :\n",
    "        if chaine[i] > chaine[j] :\n",
    "            tmp = chaine[j]\n",
    "            chaine[j] = chaine[i]\n",
    "            chaine[i] = tmp\n",
    "# print(chaine)\n",
    "\n"
   ]
  },
  {
   "cell_type": "code",
   "execution_count": 15,
   "id": "1613b3b3",
   "metadata": {},
   "outputs": [
    {
     "name": "stdout",
     "output_type": "stream",
     "text": [
      "['Classeur', 'Crayon', 'Feutre', 'Stylo', 'Surligneur']\n"
     ]
    }
   ],
   "source": [
    "print(chaine)\n",
    "\n",
    "# for i in range(len(chaine)-1) : \n",
    "#     for j in range(i+1,len(chaine)) :\n",
    "#         if chaine[i] < chaine[j] :\n",
    "#             tmp = chaine[j]\n",
    "#             chaine[j] = chaine[i]\n",
    "#             chaine[i] = tmp\n",
    "# print(chaine)"
   ]
  },
  {
   "cell_type": "code",
   "execution_count": null,
   "id": "67b9949c",
   "metadata": {},
   "outputs": [
    {
     "name": "stdout",
     "output_type": "stream",
     "text": [
      "['Stylo', 25, 'Classeur', 100, 'Crayon', 12, 'Surligneur', 40, 'Feutre', 5]\n",
      "['Classeur', 'Crayon', 'Feutre', 'Stylo', 'Surligneur']\n",
      "[100, 40, 25, 12, 5]\n"
     ]
    }
   ],
   "source": [
    "#  Écrivez du code Python ici\n",
    "stock = [\"Stylo\", 25, \"Classeur\", 100, \"Crayon\", 12, \"Surligneur\", 40, \"Feutre\", 5]\n",
    "numbers = []\n",
    "names = []\n",
    "\n",
    "for i in stock : \n",
    "    if type(i) is int :\n",
    "        numbers.append(i)\n",
    "    else :\n",
    "        names.append(i)\n",
    "\n",
    "for i in range(0,len(numbers)):\n",
    "    for y in range(0,len(numbers)) :\n",
    "        if numbers[i]> numbers[y] :\n",
    "            numbers[i],numbers[y] = numbers[y], numbers[i]\n",
    "        \n",
    "    \n",
    "for i in range(0,len(names)):\n",
    "    for j in range(0,len(names) - i - 1):\n",
    "            if names[j] > names[j + 1]:\n",
    "                names[j], names[j + 1] = names[j + 1], names[j]\n",
    "\n",
    "\n",
    "        \n",
    "\n",
    "print(stock)\n",
    "print(names)\n",
    "print(numbers)\n",
    "\n",
    "\n",
    "\n"
   ]
  },
  {
   "cell_type": "markdown",
   "id": "fe0eccef",
   "metadata": {},
   "source": [
    "\n",
    "<H3><span style=\"font-weight: bold; color: #1a8bcdff;\">Challenge 4 : Recherche d’un élément dans une liste </span></H3>\n",
    "\n",
    "<center><code>Fruits = [\"pomme\", \"banane\", \"orange\", \"kiwi\", \"mangue\"]</code></center>\n",
    "\n",
    "<span style=\"font-weight: bold; color: #e56922ff;\">Travail à faire</span>:</br>\n",
    "Créer une fonction « rechercheElement » qui a pour paramètres un élément et une liste et qui renvoie False si l’élément n’est pas dans la liste, ou l’indice de l’élément dans le cas contraire."
   ]
  },
  {
   "cell_type": "code",
   "execution_count": 28,
   "id": "b6d66015",
   "metadata": {},
   "outputs": [
    {
     "data": {
      "text/plain": [
       "1"
      ]
     },
     "execution_count": 28,
     "metadata": {},
     "output_type": "execute_result"
    }
   ],
   "source": [
    "fruits = [\"pomme\", \"banane\", \"orange\", \"kiwi\", \"mangue\"]\n",
    "def rechercheElement(fruits,word) :\n",
    "    isfound = 0\n",
    "    for i in fruits :\n",
    "        if i == word :\n",
    "            isfound = 1\n",
    "\n",
    "    return isfound\n",
    "rechercheElement(fruits,\"orange\")   \n"
   ]
  },
  {
   "cell_type": "markdown",
   "id": "ce9ba959",
   "metadata": {},
   "source": [
    "<H3><span style=\"font-weight: bold; color: #1a8bcdff;\">Challenge 5 : Nombre d'occurrences </span></H3>\n",
    "\n",
    "<center><code>L = [7 , 23 , 5 , 23 , 7 , 19 , 23 , 12 , 29]</code></center>\n",
    "\n",
    "<span style=\"font-weight: bold; color: #e56922ff;\">Travail à faire</span>:</br>\n",
    "Écrire un algorithme en python qui renvoie le nombre d'occurrences d'un élément a dans une liste L donnée sans utiliser aucune fonction prédéfinie en Python."
   ]
  },
  {
   "cell_type": "code",
   "execution_count": 39,
   "id": "fb150eca",
   "metadata": {},
   "outputs": [
    {
     "data": {
      "text/plain": [
       "'found'"
      ]
     },
     "execution_count": 39,
     "metadata": {},
     "output_type": "execute_result"
    }
   ],
   "source": [
    "#  Écrivez du code Python ici\n",
    "l = [7 , 23 , 5 , 23 , 7 , 19 , 23 , 12 , 29]\n",
    "num = int(input(\"enter the wanted : \"))\n",
    "def occurance(l,num) :\n",
    "    count = 0\n",
    "    for i in l :\n",
    "        if i == num :\n",
    "            count = 1 \n",
    "    if count == 1 :\n",
    "        return \"found\"\n",
    "    else :\n",
    "        return \"not found\"\n",
    "    \n",
    "occurance(l,num)"
   ]
  },
  {
   "cell_type": "markdown",
   "id": "e8fb0d93",
   "metadata": {},
   "source": []
  }
 ],
 "metadata": {
  "kernelspec": {
   "display_name": "Python 3",
   "language": "python",
   "name": "python3"
  },
  "language_info": {
   "codemirror_mode": {
    "name": "ipython",
    "version": 3
   },
   "file_extension": ".py",
   "mimetype": "text/x-python",
   "name": "python",
   "nbconvert_exporter": "python",
   "pygments_lexer": "ipython3",
   "version": "3.13.7"
  }
 },
 "nbformat": 4,
 "nbformat_minor": 5
}
